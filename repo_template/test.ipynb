{
 "cells": [
  {
   "cell_type": "code",
   "execution_count": 33,
   "metadata": {},
   "outputs": [
    {
     "name": "stderr",
     "output_type": "stream",
     "text": [
      "<ipython-input-33-8fca77755924>:3: H5pyDeprecationWarning: The default file mode will change to 'r' (read-only) in h5py 3.0. To suppress this warning, pass the mode you need to h5py.File(), or set the global default h5.get_config().default_file_mode, or set the environment variable H5PY_DEFAULT_READONLY=1. Available modes are: 'r', 'r+', 'w', 'w-'/'x', 'a'. See the docs for details.\n",
      "  f = h5py.File('./repo_template/dataset/2017-06-30_batchdata_updated_struct_errorcorrect.mat')\n"
     ]
    }
   ],
   "source": [
    "import h5py\n",
    "from dataset.dataset import Dataset\n",
    "import argparse\n",
    "import json\n",
    "from preprocess.preprocess import Preprocess\n",
    "parser = argparse.ArgumentParser(description='Train Example')\n",
    "parser.add_argument('--config_path', type=str,\n",
    "                    default='./config/competition.json')\n",
    "args = parser.parse_args()\n",
    "\n",
    "with open(args.config_path, 'r') as file:\n",
    "    p_args = argparse.Namespace()\n",
    "    p_args.__dict__.update(json.load(file))\n",
    "    args = parser.parse_args(namespace=p_args)\n",
    "\n",
    "pre_dataset = Preprocess(args = args)\n",
    "bat_dict1, bat_dict2, bat_dict3 = pre_dataset.data_preprocess()\n",
    "# calling function to load from disk\n",
    "all_batches_dict = Dataset.load_batches_to_dict(bat_dict1, bat_dict2, bat_dict3)\n",
    "# function to build features for ML\n",
    "features_df = Dataset.build_feature_df(all_batches_dict)"
   ]
  },
  {
   "cell_type": "code",
   "execution_count": 34,
   "metadata": {},
   "outputs": [
    {
     "name": "stderr",
     "output_type": "stream",
     "text": [
      "<ipython-input-34-5f8c7f647c6a>:6: H5pyDeprecationWarning: dataset.value has been deprecated. Use dataset[()] instead.\n",
      "  cl = f[batch['cycle_life'][i, 0]].value\n",
      "<ipython-input-34-5f8c7f647c6a>:7: H5pyDeprecationWarning: dataset.value has been deprecated. Use dataset[()] instead.\n",
      "  policy = f[batch['policy_readable'][i, 0]].value.tobytes()[::2].decode()\n",
      "<ipython-input-34-5f8c7f647c6a>:22: H5pyDeprecationWarning: dataset.value has been deprecated. Use dataset[()] instead.\n",
      "  I = np.hstack((f[cycles['I'][j, 0]].value))\n",
      "<ipython-input-34-5f8c7f647c6a>:23: H5pyDeprecationWarning: dataset.value has been deprecated. Use dataset[()] instead.\n",
      "  Qc = np.hstack((f[cycles['Qc'][j, 0]].value))\n",
      "<ipython-input-34-5f8c7f647c6a>:24: H5pyDeprecationWarning: dataset.value has been deprecated. Use dataset[()] instead.\n",
      "  Qd = np.hstack((f[cycles['Qd'][j, 0]].value))\n",
      "<ipython-input-34-5f8c7f647c6a>:25: H5pyDeprecationWarning: dataset.value has been deprecated. Use dataset[()] instead.\n",
      "  Qdlin = np.hstack((f[cycles['Qdlin'][j, 0]].value))\n",
      "<ipython-input-34-5f8c7f647c6a>:26: H5pyDeprecationWarning: dataset.value has been deprecated. Use dataset[()] instead.\n",
      "  T = np.hstack((f[cycles['T'][j, 0]].value))\n",
      "<ipython-input-34-5f8c7f647c6a>:27: H5pyDeprecationWarning: dataset.value has been deprecated. Use dataset[()] instead.\n",
      "  Tdlin = np.hstack((f[cycles['Tdlin'][j, 0]].value))\n",
      "<ipython-input-34-5f8c7f647c6a>:28: H5pyDeprecationWarning: dataset.value has been deprecated. Use dataset[()] instead.\n",
      "  V = np.hstack((f[cycles['V'][j, 0]].value))\n",
      "<ipython-input-34-5f8c7f647c6a>:29: H5pyDeprecationWarning: dataset.value has been deprecated. Use dataset[()] instead.\n",
      "  dQdV = np.hstack((f[cycles['discharge_dQdV'][j, 0]].value))\n",
      "<ipython-input-34-5f8c7f647c6a>:30: H5pyDeprecationWarning: dataset.value has been deprecated. Use dataset[()] instead.\n",
      "  t = np.hstack((f[cycles['t'][j, 0]].value))\n"
     ]
    }
   ],
   "source": [
    "import numpy as np\n",
    "batch = f['batch']\n",
    "num_cells = batch['summary'].shape[0]\n",
    "bat_dict = {}\n",
    "for i in range(num_cells):\n",
    "    cl = f[batch['cycle_life'][i, 0]].value\n",
    "    policy = f[batch['policy_readable'][i, 0]].value.tobytes()[::2].decode()\n",
    "    summary_IR = np.hstack(f[batch['summary'][i, 0]]['IR'][0, :].tolist())\n",
    "    summary_QC = np.hstack(f[batch['summary'][i, 0]]['QCharge'][0, :].tolist())\n",
    "    summary_QD = np.hstack(f[batch['summary'][i, 0]]['QDischarge'][0, :].tolist())\n",
    "    summary_TA = np.hstack(f[batch['summary'][i, 0]]['Tavg'][0, :].tolist())\n",
    "    summary_TM = np.hstack(f[batch['summary'][i, 0]]['Tmin'][0, :].tolist())\n",
    "    summary_TX = np.hstack(f[batch['summary'][i, 0]]['Tmax'][0, :].tolist())\n",
    "    summary_CT = np.hstack(f[batch['summary'][i, 0]]['chargetime'][0, :].tolist())\n",
    "    summary_CY = np.hstack(f[batch['summary'][i, 0]]['cycle'][0, :].tolist())\n",
    "    summary = {'IR': summary_IR, 'QC': summary_QC, 'QD': summary_QD, 'Tavg':\n",
    "        summary_TA, 'Tmin': summary_TM, 'Tmax': summary_TX, 'chargetime': summary_CT,\n",
    "                'cycle': summary_CY}\n",
    "    cycles = f[batch['cycles'][i, 0]]\n",
    "    cycle_dict = {}\n",
    "    for j in range(cycles['I'].shape[0]):\n",
    "        I = np.hstack((f[cycles['I'][j, 0]].value))\n",
    "        Qc = np.hstack((f[cycles['Qc'][j, 0]].value))\n",
    "        Qd = np.hstack((f[cycles['Qd'][j, 0]].value))\n",
    "        Qdlin = np.hstack((f[cycles['Qdlin'][j, 0]].value))\n",
    "        T = np.hstack((f[cycles['T'][j, 0]].value))\n",
    "        Tdlin = np.hstack((f[cycles['Tdlin'][j, 0]].value))\n",
    "        V = np.hstack((f[cycles['V'][j, 0]].value))\n",
    "        dQdV = np.hstack((f[cycles['discharge_dQdV'][j, 0]].value))\n",
    "        t = np.hstack((f[cycles['t'][j, 0]].value))\n",
    "        cd = {'I': I, 'Qc': Qc, 'Qd': Qd, 'Qdlin': Qdlin, 'T': T, 'Tdlin': Tdlin, 'V': V, 'dQdV': dQdV, 't': t}\n",
    "        cycle_dict[str(j)] = cd\n",
    "        \n",
    "    cell_dict = {'cycle_life': cl, 'charge_policy': policy, 'summary': summary, 'cycles': cycle_dict}\n",
    "    key = 'b1c' + str(i)\n",
    "    bat_dict[key] = cell_dict\n",
    "    break\n",
    "bat_dict1 = bat_dict"
   ]
  },
  {
   "cell_type": "code",
   "execution_count": 36,
   "metadata": {},
   "outputs": [
    {
     "data": {
      "text/plain": [
       "326"
      ]
     },
     "execution_count": 36,
     "metadata": {},
     "output_type": "execute_result"
    }
   ],
   "source": [
    "len(summary_IR)"
   ]
  },
  {
   "cell_type": "code",
   "execution_count": 27,
   "metadata": {},
   "outputs": [
    {
     "data": {
      "text/plain": [
       "'b1c0'"
      ]
     },
     "execution_count": 27,
     "metadata": {},
     "output_type": "execute_result"
    }
   ],
   "source": [
    "key"
   ]
  },
  {
   "cell_type": "code",
   "execution_count": null,
   "metadata": {},
   "outputs": [],
   "source": []
  }
 ],
 "metadata": {
  "kernelspec": {
   "display_name": "Python 3.8.8 ('base')",
   "language": "python",
   "name": "python3"
  },
  "language_info": {
   "codemirror_mode": {
    "name": "ipython",
    "version": 3
   },
   "file_extension": ".py",
   "mimetype": "text/x-python",
   "name": "python",
   "nbconvert_exporter": "python",
   "pygments_lexer": "ipython3",
   "version": "3.8.8"
  },
  "orig_nbformat": 4,
  "vscode": {
   "interpreter": {
    "hash": "ad2bdc8ecc057115af97d19610ffacc2b4e99fae6737bb82f5d7fb13d2f2c186"
   }
  }
 },
 "nbformat": 4,
 "nbformat_minor": 2
}
